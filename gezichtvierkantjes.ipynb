{
 "cells": [
  {
   "cell_type": "markdown",
   "metadata": {},
   "source": [
    "### Face detection with blurring on FPGA"
   ]
  },
  {
   "cell_type": "markdown",
   "metadata": {
    "slideshow": {
     "slide_type": "slide"
    }
   },
   "source": [
    "### Step 1: Import stuff"
   ]
  },
  {
   "cell_type": "code",
   "execution_count": 18,
   "metadata": {},
   "outputs": [],
   "source": [
    "import cv2\n",
    "import numpy as np\n",
    "import time\n",
    "import threading\n",
    "from queue import Queue\n",
    "\n",
    "from pynq import Overlay\n",
    "from pynq import MMIO\n",
    "from pynq.overlays.base import BaseOverlay\n",
    "from pynq.lib.video import *\n",
    "\n",
    "from pynq.lib import AxiGPIO"
   ]
  },
  {
   "cell_type": "markdown",
   "metadata": {},
   "source": [
    "### Step 2: Define FPGA class"
   ]
  },
  {
   "cell_type": "code",
   "execution_count": 32,
   "metadata": {},
   "outputs": [],
   "source": [
    "class FPGA_Connection():\n",
    "    def __init__(self):\n",
    "        self.square_address = MMIO(0x43C80000,0x10000)\n",
    "        self.port_x = 0x10\n",
    "        self.port_y = 0x18\n",
    "        self.port_w = 0x20\n",
    "        self.port_h = 0x28\n",
    "        self.port_OnOffToggle = 0x30\n",
    "        self.disabled = False\n",
    "        self.turnOn()\n",
    "\n",
    "    def writeSquare(self, x, y, w, h):\n",
    "        #port x\n",
    "        self.write(self.port_x, x)\n",
    "        #port y\n",
    "        self.write(self.port_y, y)\n",
    "        #port w\n",
    "        self.write(self.port_w, w)\n",
    "        #port h\n",
    "        self.write(self.port_h, h)\n",
    "        \n",
    "    def isDisabled(self):\n",
    "        dtprint()\n",
    "\n",
    "    def turnOn(self):\n",
    "        self.disabled = False\n",
    "        self.write(self.port_OnOffToggle, self.disabled)\n",
    "        \n",
    "    def turnOff(self):\n",
    "        self.disabled = True\n",
    "        self.write(self.port_OnOffToggle, self.disabled)\n",
    "\n",
    "    def toggle(self):\n",
    "        self.disabled = not self.disabled\n",
    "        self.write(self.port_OnOffToggle, self.disabled)\n",
    "\n",
    "    def write(self, port_address, value):\n",
    "        self.square_address.write(port_address, int(value))"
   ]
  },
  {
   "cell_type": "markdown",
   "metadata": {},
   "source": [
    "### Step 3: Define scan class"
   ]
  },
  {
   "cell_type": "code",
   "execution_count": 20,
   "metadata": {},
   "outputs": [],
   "source": [
    "class FullScanner(threading.Thread):\n",
    "\n",
    "    def __init__(self, frameQ, facesQ):\n",
    "        threading.Thread.__init__(self)\n",
    "        self.frameQ = frameQ\n",
    "        self.facesQ = facesQ\n",
    "        self.started = False\n",
    "        self.running = True\n",
    "\n",
    "    def run(self):\n",
    "        while True:\n",
    "            while not frameQ.empty() and self.running:\n",
    "                self.facesQ.put(scan(self.frameQ.get()))"
   ]
  },
  {
   "cell_type": "markdown",
   "metadata": {},
   "source": [
    "### Step 4: Define functions"
   ]
  },
  {
   "cell_type": "code",
   "execution_count": 21,
   "metadata": {
    "scrolled": false
   },
   "outputs": [
    {
     "name": "stdout",
     "output_type": "stream",
     "text": [
      "[0.0004] Started\n"
     ]
    }
   ],
   "source": [
    "def scan(frame):\n",
    "    gray = cv2.cvtColor(frame, cv2.COLOR_BGR2GRAY)\n",
    "    face_cascade = cv2.CascadeClassifier('/home/xilinx/jupyter_notebooks/base/video/data/'\n",
    "    'haarcascade_frontalface_default.xml')    \n",
    "    return face_cascade.detectMultiScale(gray, 1.3, 5)\n",
    "\n",
    "# print message with timed elapsed since starttime\n",
    "def dtprint(msg):\n",
    "    print(f\"[{time.time()-dtprint.t_started:.4f}] {msg}\")\n",
    "\n",
    "dtprint.t_started = time.time()\n",
    "dtprint(\"Started\")\n"
   ]
  },
  {
   "cell_type": "markdown",
   "metadata": {},
   "source": [
    "### Step 5: Download overlay"
   ]
  },
  {
   "cell_type": "code",
   "execution_count": 22,
   "metadata": {},
   "outputs": [
    {
     "name": "stderr",
     "output_type": "stream",
     "text": [
      "/usr/local/lib/python3.6/dist-packages/pynq/pl_server/device.py:594: UserWarning: Users will not get PARAMETERS / REGISTERS information through TCL files. HWH file is recommended.\n",
      "  warnings.warn(message, UserWarning)\n"
     ]
    },
    {
     "name": "stdout",
     "output_type": "stream",
     "text": [
      "[2.1763] Overlay downloaded\n"
     ]
    }
   ],
   "source": [
    "ol = Overlay(\"/home/xilinx/jupyter_notebooks/blurringdreams.bit\")\n",
    "ol.download()\n",
    "dtprint(\"Overlay downloaded\")"
   ]
  },
  {
   "cell_type": "markdown",
   "metadata": {},
   "source": [
    "### Step 6: setup HDMI"
   ]
  },
  {
   "cell_type": "code",
   "execution_count": 23,
   "metadata": {
    "scrolled": true
   },
   "outputs": [
    {
     "name": "stdout",
     "output_type": "stream",
     "text": [
      "[4.0171] HDMI video in & out set\n",
      "[10.5637] HDMI video in & out configured\n",
      "[10.6509] HDMI video streams started\n"
     ]
    }
   ],
   "source": [
    "hdmi_in = ol.video.hdmi_in\n",
    "hdmi_out = ol.video.hdmi_out\n",
    "dtprint(\"HDMI video in & out set\")\n",
    "\n",
    "hdmi_in.configure(PIXEL_RGBA)\n",
    "hdmi_out.configure(hdmi_in.mode, PIXEL_RGBA)\n",
    "dtprint(\"HDMI video in & out configured\")\n",
    "\n",
    "hdmi_in.start()\n",
    "hdmi_out.start()\n",
    "dtprint(\"HDMI video streams started\")"
   ]
  },
  {
   "cell_type": "markdown",
   "metadata": {},
   "source": [
    "### Step 6.5: Tie HDMI"
   ]
  },
  {
   "cell_type": "code",
   "execution_count": 24,
   "metadata": {},
   "outputs": [],
   "source": [
    "hdmi_in.tie(hdmi_out)"
   ]
  },
  {
   "cell_type": "markdown",
   "metadata": {},
   "source": [
    "### Step 7: Create FPGA object"
   ]
  },
  {
   "cell_type": "code",
   "execution_count": 33,
   "metadata": {},
   "outputs": [
    {
     "name": "stdout",
     "output_type": "stream",
     "text": [
      "[159.6093] False\n",
      "[159.6146] Created fgpa object\n"
     ]
    }
   ],
   "source": [
    "FPGA = FPGA_Connection()\n",
    "dtprint(\"Created fgpa object\")"
   ]
  },
  {
   "cell_type": "markdown",
   "metadata": {},
   "source": [
    "### Step 8: Setup switch reading"
   ]
  },
  {
   "cell_type": "code",
   "execution_count": 28,
   "metadata": {},
   "outputs": [],
   "source": [
    "switches_ip = ol.ip_dict['switches_gpio']\n",
    "switches = AxiGPIO(switches_ip).channel1\n",
    "# switches.read()"
   ]
  },
  {
   "cell_type": "markdown",
   "metadata": {},
   "source": [
    "### MAIN THREAD"
   ]
  },
  {
   "cell_type": "code",
   "execution_count": 34,
   "metadata": {},
   "outputs": [
    {
     "name": "stdout",
     "output_type": "stream",
     "text": [
      "[170.9061] #faces: 1\n",
      "[170.9071] 823\n",
      "[170.9075] 233\n",
      "[170.9079] 221\n",
      "[170.9082] 221\n",
      "[176.0988] #faces: 1\n",
      "[176.0996] 823\n",
      "[176.1000] 233\n",
      "[176.1021] 221\n",
      "[176.1027] 221\n",
      "[177.0040] True\n",
      "[180.2517] False\n",
      "[180.6260] #faces: 1\n",
      "[180.6292] 823\n",
      "[180.6313] 233\n",
      "[180.6318] 221\n",
      "[180.6322] 221\n",
      "[185.0135] #faces: 1\n",
      "[185.0144] 823\n",
      "[185.0148] 233\n",
      "[185.0152] 221\n",
      "[185.0155] 221\n",
      "[189.3793] #faces: 1\n",
      "[189.3830] 823\n",
      "[189.3849] 233\n",
      "[189.3862] 221\n",
      "[189.3867] 221\n",
      "[194.3789] #faces: 1\n",
      "[194.3815] 823\n",
      "[194.3819] 233\n",
      "[194.3828] 221\n",
      "[194.3832] 221\n",
      "[196.4177] Done!\n"
     ]
    }
   ],
   "source": [
    "frameQ = Queue()\n",
    "facesQ = Queue()\n",
    "\n",
    "fullScanner = FullScanner(frameQ, facesQ)\n",
    "fullScanner.daemon = True\n",
    "frameQ.put(hdmi_in.readframe())  # fill the first frame for the scanner\n",
    "fullScanner.start()\n",
    "\n",
    "t_started = time.time()\n",
    "\n",
    "prevRead = switches.read()\n",
    "\n",
    "workTime = 30 # seconds\n",
    "\n",
    "while time.time() - t_started < workTime:\n",
    "    \n",
    "    if frameQ.empty() and not facesQ.empty():\n",
    "        frame = hdmi_in.readframe()\n",
    "        frameQ.put(frame)\n",
    "        faces = facesQ.get()\n",
    "        dtprint(f\"#faces: {len(faces)}\")\n",
    "        if len(faces) > 0:\n",
    "            FPGA.writeSquare(*faces[0])\n",
    "        else:\n",
    "            FPGA.turnOff()\n",
    "            \n",
    "    if switches.read() != prevRead:\n",
    "        prevRead = switches.read()\n",
    "        FPGA.toggle()\n",
    "    \n",
    "dtprint(\"Done!\")\n",
    "fullScanner.running = False"
   ]
  },
  {
   "cell_type": "markdown",
   "metadata": {},
   "source": [
    "### Shutdown everything"
   ]
  },
  {
   "cell_type": "code",
   "execution_count": 17,
   "metadata": {},
   "outputs": [
    {
     "ename": "NameError",
     "evalue": "name 'button_task' is not defined",
     "output_type": "error",
     "traceback": [
      "\u001b[0;31m---------------------------------------------------------------------------\u001b[0m",
      "\u001b[0;31mNameError\u001b[0m                                 Traceback (most recent call last)",
      "\u001b[0;32m<ipython-input-17-702aa5c55598>\u001b[0m in \u001b[0;36m<module>\u001b[0;34m()\u001b[0m\n\u001b[1;32m      1\u001b[0m \u001b[0mhdmi_out\u001b[0m\u001b[0;34m.\u001b[0m\u001b[0mclose\u001b[0m\u001b[0;34m(\u001b[0m\u001b[0;34m)\u001b[0m\u001b[0;34m\u001b[0m\u001b[0m\n\u001b[1;32m      2\u001b[0m \u001b[0mhdmi_in\u001b[0m\u001b[0;34m.\u001b[0m\u001b[0mclose\u001b[0m\u001b[0;34m(\u001b[0m\u001b[0;34m)\u001b[0m\u001b[0;34m\u001b[0m\u001b[0m\n\u001b[0;32m----> 3\u001b[0;31m \u001b[0mbutton_task\u001b[0m\u001b[0;34m.\u001b[0m\u001b[0mcancel\u001b[0m\u001b[0;34m(\u001b[0m\u001b[0;34m)\u001b[0m\u001b[0;34m\u001b[0m\u001b[0m\n\u001b[0m\u001b[1;32m      4\u001b[0m \u001b[0;34m\u001b[0m\u001b[0m\n\u001b[1;32m      5\u001b[0m \u001b[0mdtprint\u001b[0m\u001b[0;34m(\u001b[0m\u001b[0;34m\"HDMI Closed\"\u001b[0m\u001b[0;34m)\u001b[0m\u001b[0;34m\u001b[0m\u001b[0m\n",
      "\u001b[0;31mNameError\u001b[0m: name 'button_task' is not defined"
     ]
    }
   ],
   "source": [
    "hdmi_out.close()\n",
    "hdmi_in.close()\n",
    "\n",
    "dtprint(\"HDMI Closed\")"
   ]
  },
  {
   "cell_type": "code",
   "execution_count": null,
   "metadata": {},
   "outputs": [],
   "source": []
  }
 ],
 "metadata": {
  "kernelspec": {
   "display_name": "Python 3",
   "language": "python",
   "name": "python3"
  },
  "language_info": {
   "codemirror_mode": {
    "name": "ipython",
    "version": 3
   },
   "file_extension": ".py",
   "mimetype": "text/x-python",
   "name": "python",
   "nbconvert_exporter": "python",
   "pygments_lexer": "ipython3",
   "version": "3.6.5"
  }
 },
 "nbformat": 4,
 "nbformat_minor": 1
}

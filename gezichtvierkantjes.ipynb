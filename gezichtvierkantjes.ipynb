{
 "cells": [
  {
   "cell_type": "markdown",
   "metadata": {},
   "source": [
    "### Face detection with blurring on FPGA"
   ]
  },
  {
   "cell_type": "markdown",
   "metadata": {
    "slideshow": {
     "slide_type": "slide"
    }
   },
   "source": [
    "### Step 1: Import stuff"
   ]
  },
  {
   "cell_type": "code",
   "execution_count": 2,
   "metadata": {},
   "outputs": [],
   "source": [
    "import cv2\n",
    "import time\n",
    "import threading\n",
    "from queue import Queue\n",
    "\n",
    "from pynq import Overlay\n",
    "from pynq import MMIO\n",
    "from pynq.overlays.base import BaseOverlay\n",
    "from pynq.lib.video import *\n",
    "\n",
    "from pynq.lib import AxiGPIO"
   ]
  },
  {
   "cell_type": "markdown",
   "metadata": {},
   "source": [
    "## Step 2: Define debug function"
   ]
  },
  {
   "cell_type": "code",
   "execution_count": 3,
   "metadata": {},
   "outputs": [
    {
     "name": "stdout",
     "output_type": "stream",
     "text": [
      "[0.0003] Started\n"
     ]
    }
   ],
   "source": [
    "# print message with timed elapsed since starttime\n",
    "def dtprint(msg):\n",
    "    print(f\"[{time.time()-dtprint.t_started:.4f}] {msg}\")\n",
    "\n",
    "dtprint.t_started = time.time()\n",
    "dtprint(\"Started\")"
   ]
  },
  {
   "cell_type": "markdown",
   "metadata": {},
   "source": [
    "### Step 3: Download overlay"
   ]
  },
  {
   "cell_type": "code",
   "execution_count": 4,
   "metadata": {},
   "outputs": [
    {
     "name": "stderr",
     "output_type": "stream",
     "text": [
      "/usr/local/lib/python3.6/dist-packages/pynq/pl_server/device.py:594: UserWarning: Users will not get PARAMETERS / REGISTERS information through TCL files. HWH file is recommended.\n",
      "  warnings.warn(message, UserWarning)\n"
     ]
    },
    {
     "name": "stdout",
     "output_type": "stream",
     "text": [
      "[10.9165] Overlay downloaded\n"
     ]
    }
   ],
   "source": [
    "BITFILE = \"blokjes3.bit\"\n",
    "ol = Overlay(r\"/home/xilinx/jupyter_notebooks/\" + BITFILE)\n",
    "ol.download()\n",
    "dtprint(\"Overlay downloaded\")"
   ]
  },
  {
   "cell_type": "markdown",
   "metadata": {},
   "source": [
    "### Step 4: Define FPGA class"
   ]
  },
  {
   "cell_type": "code",
   "execution_count": 5,
   "metadata": {},
   "outputs": [],
   "source": [
    "class FPGA_Connection():\n",
    "    def __init__(self):\n",
    "        self.base_address = MMIO(0x43C80000,0x10000)\n",
    "        self.port_x = 0x10\n",
    "        self.port_y = 0x18\n",
    "        self.port_w = 0x20\n",
    "        self.port_h = 0x28\n",
    "        self.port_mode = 0x30\n",
    "        self.writeEmpty() # initialise ports to -1\n",
    "        \n",
    "        self.mode = None\n",
    "        self.switches = getSwitches()\n",
    "        self.setMode(self.switches.read())\n",
    "        \n",
    "    def write(self, port_address, value):\n",
    "        self.base_address.write(port_address, int(value))\n",
    "        \n",
    "    def getSwitches(self):\n",
    "        switches_ip = ol.ip_dict['switches_gpio']\n",
    "        return AxiGPIO(switches_ip).channel1\n",
    "\n",
    "    def writeSquare(self, x, y, w, h):\n",
    "        #port x\n",
    "        self.write(self.port_x, x)\n",
    "        #port y\n",
    "        self.write(self.port_y, y)\n",
    "        #port w\n",
    "        self.write(self.port_w, w)\n",
    "        #port h\n",
    "        self.write(self.port_h, h)\n",
    "        \n",
    "    def writeEmpty(self):\n",
    "        empty_face = (-1, -1, -1, -1) # -1 since it get converted to 65535 (uint16_t)\n",
    "        self.writeSquare(*empty_face)\n",
    "\n",
    "    def setMode(self, mode):\n",
    "        self.mode = mode\n",
    "        dtprint(f\"Mode = {mode}\")\n",
    "        self.write(self.port_mode, self.mode)"
   ]
  },
  {
   "cell_type": "markdown",
   "metadata": {},
   "source": [
    "### Step 5: Define scan function and Scanner Thread"
   ]
  },
  {
   "cell_type": "code",
   "execution_count": 6,
   "metadata": {},
   "outputs": [],
   "source": [
    "def scan(frame):\n",
    "    gray = cv2.cvtColor(frame, cv2.COLOR_BGR2GRAY)\n",
    "    face_cascade = cv2.CascadeClassifier('/home/xilinx/jupyter_notebooks/base/video/data/'\n",
    "    'haarcascade_frontalface_default.xml')    \n",
    "    return face_cascade.detectMultiScale(gray, 1.3, 5)\n",
    "\n",
    "class FullScanner(threading.Thread):\n",
    "\n",
    "    def __init__(self, frameQ, facesQ):\n",
    "        threading.Thread.__init__(self)\n",
    "        self.frameQ = frameQ\n",
    "        self.facesQ = facesQ\n",
    "        self.running = False\n",
    "\n",
    "    def run(self):\n",
    "        while True:\n",
    "            while not frameQ.empty() and self.running:\n",
    "                self.facesQ.put(scan(self.frameQ.get()))"
   ]
  },
  {
   "cell_type": "markdown",
   "metadata": {},
   "source": [
    "### Step 6: setup HDMI"
   ]
  },
  {
   "cell_type": "code",
   "execution_count": 7,
   "metadata": {
    "scrolled": false
   },
   "outputs": [
    {
     "name": "stdout",
     "output_type": "stream",
     "text": [
      "[32.8916] HDMI video in & out set\n",
      "[33.9360] HDMI video in & out configured\n",
      "[34.0093] HDMI video streams started\n"
     ]
    }
   ],
   "source": [
    "hdmi_in = ol.video.hdmi_in\n",
    "hdmi_out = ol.video.hdmi_out\n",
    "dtprint(\"HDMI video in & out set\")\n",
    "\n",
    "hdmi_in.configure(PIXEL_RGBA)\n",
    "hdmi_out.configure(hdmi_in.mode, PIXEL_RGBA)\n",
    "dtprint(\"HDMI video in & out configured\")\n",
    "\n",
    "hdmi_in.start()\n",
    "hdmi_out.start()\n",
    "dtprint(\"HDMI video streams started\")"
   ]
  },
  {
   "cell_type": "markdown",
   "metadata": {},
   "source": [
    "### Step 6.5: Tie HDMI"
   ]
  },
  {
   "cell_type": "code",
   "execution_count": 8,
   "metadata": {},
   "outputs": [],
   "source": [
    "hdmi_in.tie(hdmi_out)"
   ]
  },
  {
   "cell_type": "markdown",
   "metadata": {},
   "source": [
    "### Step 7: Create FPGA and Scanner objects"
   ]
  },
  {
   "cell_type": "code",
   "execution_count": 9,
   "metadata": {},
   "outputs": [
    {
     "name": "stdout",
     "output_type": "stream",
     "text": [
      "[52.9313] Mode = 0\n",
      "[52.9323] Created fgpa object\n",
      "[52.9509] started scanner thread\n"
     ]
    }
   ],
   "source": [
    "FPGA = FPGA_Connection()\n",
    "dtprint(\"Created fgpa object\")\n",
    "\n",
    "frameQ = Queue()\n",
    "facesQ = Queue()\n",
    "\n",
    "fullScanner = FullScanner(frameQ, facesQ)\n",
    "fullScanner.daemon = True\n",
    "fullScanner.running = False\n",
    "fullScanner.start()\n",
    "dtprint(\"started scanner thread\")"
   ]
  },
  {
   "cell_type": "markdown",
   "metadata": {},
   "source": [
    "### MAIN THREAD"
   ]
  },
  {
   "cell_type": "code",
   "execution_count": 14,
   "metadata": {},
   "outputs": [
    {
     "name": "stdout",
     "output_type": "stream",
     "text": [
      "[275.8875] started scanning\n",
      "[275.8899] Mode = 2\n",
      "[277.6922] #faces: 2\n",
      "[279.5612] #faces: 1\n",
      "[281.5716] #faces: 1\n",
      "[283.2351] #faces: 2\n",
      "[285.0121] #faces: 0\n",
      "[286.8927] #faces: 0\n",
      "[288.6854] #faces: 0\n",
      "[290.4380] #faces: 2\n",
      "[292.3543] #faces: 1\n",
      "[294.2327] #faces: 2\n",
      "[296.1787] #faces: 2\n",
      "[298.0388] #faces: 0\n",
      "[300.1977] #faces: 1\n",
      "[302.0708] #faces: 0\n",
      "[303.9831] #faces: 0\n",
      "[305.8481] #faces: 0\n",
      "[305.8873] Mode = 0\n",
      "[305.8898] Done!\n"
     ]
    }
   ],
   "source": [
    "frameQ.put(hdmi_in.readframe())  # fill the first frame for the scanner\n",
    "\n",
    "fullScanner.running = True\n",
    "\n",
    "t_started = time.time()\n",
    "workTime = 30 # seconds\n",
    "\n",
    "dtprint(\"started scanning\")\n",
    "while time.time() - t_started < workTime:\n",
    "    \n",
    "    if frameQ.empty() and not facesQ.empty():\n",
    "        frameQ.put(hdmi_in.readframe())\n",
    "        faces = facesQ.get()\n",
    "        dtprint(f\"#faces: {len(faces)}\")\n",
    "        if len(faces) > 0:\n",
    "            FPGA.writeSquare(*faces[0])\n",
    "        else:\n",
    "            FPGA.writeEmpty()\n",
    "            \n",
    "    if switches.read() != FPGA.mode:\n",
    "        FPGA.setMode(switches.read())\n",
    "        \n",
    "FPGA.setMode(0)\n",
    "fullScanner.running = False\n",
    "dtprint(\"Done!\")"
   ]
  },
  {
   "cell_type": "markdown",
   "metadata": {},
   "source": [
    "### Shutdown everything"
   ]
  },
  {
   "cell_type": "code",
   "execution_count": 31,
   "metadata": {},
   "outputs": [
    {
     "name": "stdout",
     "output_type": "stream",
     "text": [
      "[2610.0921] HDMI Closed\n"
     ]
    }
   ],
   "source": [
    "hdmi_out.close()\n",
    "hdmi_in.close()\n",
    "\n",
    "dtprint(\"HDMI Closed\")"
   ]
  }
 ],
 "metadata": {
  "kernelspec": {
   "display_name": "Python 3",
   "language": "python",
   "name": "python3"
  },
  "language_info": {
   "codemirror_mode": {
    "name": "ipython",
    "version": 3
   },
   "file_extension": ".py",
   "mimetype": "text/x-python",
   "name": "python",
   "nbconvert_exporter": "python",
   "pygments_lexer": "ipython3",
   "version": "3.6.7"
  }
 },
 "nbformat": 4,
 "nbformat_minor": 1
}
